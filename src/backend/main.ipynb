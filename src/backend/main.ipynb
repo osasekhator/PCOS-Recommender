{
 "cells": [
  {
   "cell_type": "code",
   "execution_count": 27,
   "id": "c0dc7576",
   "metadata": {},
   "outputs": [],
   "source": [
    "import pandas as pd\n",
    "import numpy as np\n",
    "from sklearn.preprocessing import StandardScaler\n",
    "from sklearn.metrics.pairwise import cosine_similarity"
   ]
  },
  {
   "cell_type": "code",
   "execution_count": 28,
   "id": "361179be",
   "metadata": {},
   "outputs": [],
   "source": [
    "try:\n",
    "    foods = pd.read_csv(r'C:\\\\Users\\\\Osas\\\\Personal_projects\\\\PCOS_project\\\\foods.csv')\n",
    "except FileNotFoundError:\n",
    "    print(\"foods.csv not found. Please update the file path.\")\n",
    "    exit()"
   ]
  },
  {
   "cell_type": "code",
   "execution_count": 29,
   "id": "dd12c536",
   "metadata": {},
   "outputs": [],
   "source": [
    "try:\n",
    "    nutrition = pd.read_excel(r'C:\\\\Users\\\\Osas\\\\Personal_projects\\\\PCOS_project\\\\nutritionalsamples.xlsx')\n",
    "except FileNotFoundError:\n",
    "    print(\"nutritionalsamples.xlsx not found. Please update the file path.\")\n",
    "    # Exit or continue with a dummy DataFrame if the file is not essential for the rest of the script.\n",
    "    # In this case, we can continue as the main logic is based on `foods`.\n",
    "    nutrition = pd.DataFrame() # Create an empty DataFrame to prevent errors."
   ]
  },
  {
   "cell_type": "code",
   "execution_count": 30,
   "id": "57280659",
   "metadata": {},
   "outputs": [
    {
     "name": "stdout",
     "output_type": "stream",
     "text": [
      "Nutrition DataFrame head after adding 'net carbs' column:\n",
      "             food  protein(g)  carbs(g)  fiber(g)  fats(g)  sugar(g)  kcal  \\\n",
      "0         almonds       21.40      20.0     10.80    51.10      3.90   584   \n",
      "1     rolled oats       13.50      68.7     10.40     5.89      1.00   379   \n",
      "2           bread       14.30      72.8      2.70     1.65      5.00   372   \n",
      "3   gold potatoes        1.81      16.0     13.80     0.26      0.65    72   \n",
      "4  sweet potatoes        1.58      17.3      4.44     0.38      6.06    77   \n",
      "\n",
      "   gi  net carbs  \n",
      "0  15       9.20  \n",
      "1  55      58.30  \n",
      "2  90      70.10  \n",
      "3  58       2.20  \n",
      "4  70      12.86  \n"
     ]
    }
   ],
   "source": [
    "# 1. Calculate 'net carbs' on the nutrition DataFrame\n",
    "if not nutrition.empty and 'carbs(g)' in nutrition.columns and 'fiber(g)' in nutrition.columns:\n",
    "    nutrition['net carbs'] = nutrition['carbs(g)'] - nutrition['fiber(g)']\n",
    "    print(\"Nutrition DataFrame head after adding 'net carbs' column:\")\n",
    "    print(nutrition.head())"
   ]
  },
  {
   "cell_type": "code",
   "execution_count": 31,
   "id": "1c63b3cf",
   "metadata": {},
   "outputs": [],
   "source": [
    "# 2. Define the `pcos_score` function\n",
    "def pcos_score(row):\n",
    "    protein_weight = 3\n",
    "    fat_weight = 1\n",
    "    sat_fat_weight = -2\n",
    "    fiber_weight = 2\n",
    "    carb_weight = -2\n",
    "    # Based on the screenshot, the 'Carbs' column is not used in the score calculation, but 'Fat' and 'Sat.Fat' are.\n",
    "    # The function definition uses 'Protein', 'Sat.Fat', 'Fiber' from the 'foods' DataFrame.\n",
    "    # This seems to be the most consistent interpretation of the screenshots.\n",
    "    # Note: There is an inconsistency in the screenshot where one function uses `sugar` and `carb_weight`, but we will stick to the one that aligns with the final `foods` DataFrame.\n",
    "    calc_score = (protein_weight * row['Protein']) + (sat_fat_weight * row['Sat.Fat']) + (fat_weight * row['Fat']) + (fiber_weight * row['Fiber'] + carb_weight * row['Carbs'])\n",
    "    return calc_score"
   ]
  },
  {
   "cell_type": "code",
   "execution_count": 32,
   "id": "bf989a35",
   "metadata": {},
   "outputs": [
    {
     "name": "stdout",
     "output_type": "stream",
     "text": [
      "\n",
      "Foods DataFrame head after adding 'PCOS_score' column:\n",
      "                    Food Measure  Grams Calories  Protein  Fat  Sat.Fat  \\\n",
      "0             Cows' milk   1 qt.    976      660       32   40     36.0   \n",
      "1              Milk skim   1 qt.    984      360       36    0      0.0   \n",
      "2             Buttermilk   1 cup    246      127        9    5      4.0   \n",
      "3  Evaporated, undiluted   1 cup    252      345       16   20     18.0   \n",
      "4         Fortified milk  6 cups  1,419    1,373       89   42     23.0   \n",
      "\n",
      "   Fiber  Carbs        Category  PCOS_score  \n",
      "0    0.0   48.0  Dairy products       -32.0  \n",
      "1    0.0   52.0  Dairy products         4.0  \n",
      "2    0.0   13.0  Dairy products        -2.0  \n",
      "3    0.0   24.0  Dairy products       -16.0  \n",
      "4    1.4  119.0  Dairy products        27.8  \n"
     ]
    }
   ],
   "source": [
    "# 3. Apply the `pcos_score` to the `foods` DataFrame\n",
    "foods['PCOS_score'] = foods.apply(pcos_score, axis=1)\n",
    "print(\"\\nFoods DataFrame head after adding 'PCOS_score' column:\")\n",
    "print(foods.head())"
   ]
  },
  {
   "cell_type": "code",
   "execution_count": 33,
   "id": "1131cd69",
   "metadata": {},
   "outputs": [],
   "source": [
    "# 4. Data preprocessing for cosine similarity\n",
    "# Select features as shown in the screenshot\n",
    "features = foods[['Protein', 'Fat', 'Sat.Fat', 'Fiber', 'Carbs', 'PCOS_score']].copy()\n",
    "# Handle missing values by filling with the mean\n",
    "features.fillna(features.mean(), inplace=True)\n",
    "\n",
    "# Scale the features\n",
    "scaler = StandardScaler()\n",
    "features_scaled = scaler.fit_transform(features)\n",
    "\n",
    "# Calculate the cosine similarity matrix\n",
    "sim_matrix = cosine_similarity(features_scaled)"
   ]
  },
  {
   "cell_type": "code",
   "execution_count": 34,
   "id": "c31a10c4",
   "metadata": {},
   "outputs": [],
   "source": [
    "# 5. Define `recommend_similar` function\n",
    "def recommend_similar(food_name, top_n=5):\n",
    "    if food_name not in foods['Food'].values:\n",
    "        print(f\"Food '{food_name}' not found in dataset. Try one of: {list(foods['Food'].sample(5))}\")\n",
    "        return None\n",
    "    idx = foods[foods['Food'] == food_name].index[0]\n",
    "    sim_scores = list(enumerate(sim_matrix[idx]))\n",
    "    sim_scores = sorted(sim_scores, key=lambda x: x[1], reverse=True)\n",
    "    top_indices = [i[0] for i in sim_scores[1:top_n+1]]\n",
    "    return foods.iloc[top_indices][['Food', 'Category', 'PCOS_score']]"
   ]
  },
  {
   "cell_type": "code",
   "execution_count": 35,
   "id": "f15aa5fe",
   "metadata": {},
   "outputs": [],
   "source": [
    "# 6. Define `recommend` function\n",
    "def recommend(df, top=10, category=None):\n",
    "    filtered = df.copy()\n",
    "    if category:\n",
    "        filtered = filtered[filtered['Category'] == category]\n",
    "    recommendation = filtered.sort_values(by='PCOS_score', ascending=False)\n",
    "    return recommendation.head(top)"
   ]
  },
  {
   "cell_type": "code",
   "execution_count": 36,
   "id": "7f27b3a3",
   "metadata": {},
   "outputs": [
    {
     "name": "stdout",
     "output_type": "stream",
     "text": [
      "\n",
      "--- Example: Top 10 recommendations for 'Fruits A-F' ---\n",
      "                      Food    Measure Grams Calories  Protein  Fat  Sat.Fat  \\\n",
      "161  Watercress stems, raw      1 cup    50        9        1    0      0.0   \n",
      "163          Apple vinegar    1/3 cup   100       14        0    0      0.0   \n",
      "170                Avocado  1/2 large   108      185        2   18     12.0   \n",
      "174             Cantaloupe   1/2 med.   380       40        1    0      0.0   \n",
      "172           Blackberries      1 cup   144       85        2    1      0.0   \n",
      "168                  Fresh     3 med.   114       55        1    0      0.0   \n",
      "176             Fresh, raw      1 cup   114       65        1    0      0.0   \n",
      "164            Apples, raw      1 med   130       70        0    0      0.0   \n",
      "180        Fresh, raw figs     3 med.   114       90        2    0      0.0   \n",
      "175               Cherries      1 cup   257      100        2    1      0.0   \n",
      "\n",
      "     Fiber  Carbs    Category  PCOS_score  \n",
      "161    0.3    1.0  Fruits A-F         1.6  \n",
      "163    0.0    3.0  Fruits A-F        -6.0  \n",
      "170    1.8    6.0  Fruits A-F        -8.4  \n",
      "174    2.2    9.0  Fruits A-F       -10.6  \n",
      "172    6.6   19.0  Fruits A-F       -17.8  \n",
      "168    0.7   14.0  Fruits A-F       -23.6  \n",
      "176    0.8   15.0  Fruits A-F       -25.4  \n",
      "164    1.0   18.0  Fruits A-F       -34.0  \n",
      "180    1.0   22.0  Fruits A-F       -36.0  \n",
      "175    2.0   26.0  Fruits A-F       -41.0  \n",
      "\n",
      "--- Example: Foods similar to 'Shrimp' ---\n",
      "                      Food        Category  PCOS_score\n",
      "11              skim. milk  Dairy products        28.0\n",
      "80                 Lobster   Fish, Seafood        55.0\n",
      "52  Corned beef hash Dried   Meat, Poultry        53.0\n",
      "77                 Haddock   Fish, Seafood        33.0\n",
      "73                     Cod   Fish, Seafood        89.0\n"
     ]
    }
   ],
   "source": [
    "# 7. Example usage\n",
    "print(\"\\n--- Example: Top 10 recommendations for 'Fruits A-F' ---\")\n",
    "recommendations_fruits = recommend(foods, 10, 'Fruits A-F')\n",
    "print(recommendations_fruits)\n",
    "\n",
    "print(\"\\n--- Example: Foods similar to 'Shrimp' ---\")\n",
    "similar_foods_shrimp = recommend_similar(\"Shrimp\", top_n=5)\n",
    "if similar_foods_shrimp is not None:\n",
    "    print(similar_foods_shrimp)"
   ]
  }
 ],
 "metadata": {
  "kernelspec": {
   "display_name": "Python 3",
   "language": "python",
   "name": "python3"
  },
  "language_info": {
   "codemirror_mode": {
    "name": "ipython",
    "version": 3
   },
   "file_extension": ".py",
   "mimetype": "text/x-python",
   "name": "python",
   "nbconvert_exporter": "python",
   "pygments_lexer": "ipython3",
   "version": "3.13.1"
  }
 },
 "nbformat": 4,
 "nbformat_minor": 5
}
